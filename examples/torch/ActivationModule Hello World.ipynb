{
 "cells": [
  {
   "cell_type": "markdown",
   "id": "cfe4080a",
   "metadata": {},
   "source": [
    "# Imports \n",
    "\n",
    "To use the ActivationModule for instantiating ActivationFunctions after installing the repository, we need to first import the wanted ActivationFunction. In this case we use ReLu:"
   ]
  },
  {
   "cell_type": "code",
   "execution_count": 7,
   "id": "8c520ad4",
   "metadata": {},
   "outputs": [],
   "source": [
    "from activations.torch import ReLU"
   ]
  },
  {
   "cell_type": "markdown",
   "id": "856c1014",
   "metadata": {},
   "source": [
    "Afterwards, we import all the neccessary modules needed to create a Network and train/evaluate it:"
   ]
  },
  {
   "cell_type": "code",
   "execution_count": 8,
   "id": "10431fda",
   "metadata": {},
   "outputs": [],
   "source": [
    "from numpy import full\n",
    "from torchvision import datasets\n",
    "from torchvision.transforms import ToTensor\n",
    "from torch.utils.data import DataLoader as DL\n",
    "import torch.nn as nn\n",
    "from torch import optim\n",
    "import torch"
   ]
  },
  {
   "cell_type": "markdown",
   "id": "d009d75c",
   "metadata": {},
   "source": [
    "# Network creation with ActivationModule ReLU\n",
    "\n",
    "Now we create an example Network, where we use our imported ActivationModule activation function to activate neurons. Additionally, we create save, load, train and an evaluation method for our example network in order to do everything we want to do with it: "
   ]
  },
  {
   "cell_type": "code",
   "execution_count": 17,
   "id": "a758fec2",
   "metadata": {},
   "outputs": [],
   "source": [
    "class MnistCNN(nn.Module):\n",
    "    def __init__(self, *args, **kwargs):\n",
    "        super().__init__()\n",
    "\n",
    "        self.l1 = nn.Sequential(nn.Conv2d(\n",
    "            in_channels=1,\n",
    "            out_channels=16,\n",
    "            kernel_size=5,\n",
    "            stride=1,\n",
    "            padding=2\n",
    "            ),\n",
    "            nn.MaxPool2d(kernel_size=2)\n",
    "        )\n",
    "\n",
    "        self.l2 = nn.Sequential(nn.Conv2d(\n",
    "            in_channels=16,\n",
    "            out_channels=32,\n",
    "            kernel_size=5,\n",
    "            stride=1,\n",
    "            padding=2\n",
    "            ),\n",
    "            nn.MaxPool2d(2)\n",
    "        )\n",
    "\n",
    "        self.l3 = nn.Linear(32 * 7 * 7, 10)\n",
    "\n",
    "        self.a1 = ReLU()\n",
    "        self.a2 = ReLU()\n",
    "\n",
    "    def forward(self, x):\n",
    "        x = self.l1(x)\n",
    "        x = self.a1(x)\n",
    "        x = self.l2(x)\n",
    "        x = self.a2(x)\n",
    "\n",
    "        x = x.view(x.size(0), -1)\n",
    "        output = self.l3(x)\n",
    "        return output\n",
    "\n",
    "\n",
    "def save_model(model, save_name):\n",
    "    full_pth = f\"./models/{save_name}\"\n",
    "    torch.save(model.state_dict(), full_pth)\n",
    "\n",
    "def load_model(model_name, modeltype=MnistCNN, *args, **kwargs):\n",
    "    model = modeltype(*args, **kwargs)\n",
    "    model.load_state_dict(torch.load(f\"./models/{model_name}\"))\n",
    "    return model\n",
    "\n",
    "def train(epochs, model, trainDataLoader):\n",
    "    optimizer = optim.Adam(model.parameters(), lr=0.01)\n",
    "    lossf = nn.CrossEntropyLoss()\n",
    "    model.train()\n",
    "\n",
    "    for epoch in range(epochs):\n",
    "        epoch_loss = 0\n",
    "        for (batch_image, batch_label) in trainDataLoader:\n",
    "            output = model(batch_image)\n",
    "            loss = lossf(output, batch_label)\n",
    "            optimizer.zero_grad()\n",
    "            loss.backward()\n",
    "            optimizer.step()\n",
    "            epoch_loss += loss.item()\n",
    "        print(f\"Loss at epoch {epoch} := {epoch_loss / len(trainDataLoader)}\")\n",
    "\n",
    "\n",
    "def eval(model, testDataLoader):\n",
    "    model.eval()\n",
    "    with torch.no_grad():\n",
    "        correct = 0\n",
    "        total = 0\n",
    "        for images, labels in testDataLoader:\n",
    "            test_output = model(images)\n",
    "            model_pred = torch.max(test_output, 1)[1]\n",
    "            acc = (model_pred == labels).sum().item()\n",
    "            correct += acc\n",
    "            total += labels.size(0)\n",
    "        print(f\"Accuracy is {correct / total}\")"
   ]
  },
  {
   "cell_type": "markdown",
   "id": "8dc54e03",
   "metadata": {},
   "source": [
    "# Datasets\n",
    "\n",
    "Now we can create train this model on some train and evaluation datasets, in our case we will be using MNIST for training and FashionMNIST for evaluation of the model:"
   ]
  },
  {
   "cell_type": "code",
   "execution_count": 12,
   "id": "0b28943b",
   "metadata": {},
   "outputs": [
    {
     "name": "stdout",
     "output_type": "stream",
     "text": [
      "Downloading http://yann.lecun.com/exdb/mnist/train-images-idx3-ubyte.gz\n",
      "Downloading http://yann.lecun.com/exdb/mnist/train-images-idx3-ubyte.gz to data/MNIST/raw/train-images-idx3-ubyte.gz\n"
     ]
    },
    {
     "data": {
      "application/vnd.jupyter.widget-view+json": {
       "model_id": "4459039699704ead806db12b07ebc442",
       "version_major": 2,
       "version_minor": 0
      },
      "text/plain": [
       "  0%|          | 0/9912422 [00:00<?, ?it/s]"
      ]
     },
     "metadata": {},
     "output_type": "display_data"
    },
    {
     "name": "stdout",
     "output_type": "stream",
     "text": [
      "Extracting data/MNIST/raw/train-images-idx3-ubyte.gz to data/MNIST/raw\n",
      "\n",
      "Downloading http://yann.lecun.com/exdb/mnist/train-labels-idx1-ubyte.gz\n",
      "Downloading http://yann.lecun.com/exdb/mnist/train-labels-idx1-ubyte.gz to data/MNIST/raw/train-labels-idx1-ubyte.gz\n"
     ]
    },
    {
     "data": {
      "application/vnd.jupyter.widget-view+json": {
       "model_id": "019eb0d7bf3d4c579529caca345f8de9",
       "version_major": 2,
       "version_minor": 0
      },
      "text/plain": [
       "  0%|          | 0/28881 [00:00<?, ?it/s]"
      ]
     },
     "metadata": {},
     "output_type": "display_data"
    },
    {
     "name": "stdout",
     "output_type": "stream",
     "text": [
      "Extracting data/MNIST/raw/train-labels-idx1-ubyte.gz to data/MNIST/raw\n",
      "\n",
      "Downloading http://yann.lecun.com/exdb/mnist/t10k-images-idx3-ubyte.gz\n",
      "Downloading http://yann.lecun.com/exdb/mnist/t10k-images-idx3-ubyte.gz to data/MNIST/raw/t10k-images-idx3-ubyte.gz\n"
     ]
    },
    {
     "data": {
      "application/vnd.jupyter.widget-view+json": {
       "model_id": "89262d69f52440d4861ae8c7e4500f7d",
       "version_major": 2,
       "version_minor": 0
      },
      "text/plain": [
       "  0%|          | 0/1648877 [00:00<?, ?it/s]"
      ]
     },
     "metadata": {},
     "output_type": "display_data"
    },
    {
     "name": "stdout",
     "output_type": "stream",
     "text": [
      "Extracting data/MNIST/raw/t10k-images-idx3-ubyte.gz to data/MNIST/raw\n",
      "\n",
      "Downloading http://yann.lecun.com/exdb/mnist/t10k-labels-idx1-ubyte.gz\n",
      "Downloading http://yann.lecun.com/exdb/mnist/t10k-labels-idx1-ubyte.gz to data/MNIST/raw/t10k-labels-idx1-ubyte.gz\n"
     ]
    },
    {
     "data": {
      "application/vnd.jupyter.widget-view+json": {
       "model_id": "57b19f5c1ab94134a624f69d3507970d",
       "version_major": 2,
       "version_minor": 0
      },
      "text/plain": [
       "  0%|          | 0/4542 [00:00<?, ?it/s]"
      ]
     },
     "metadata": {},
     "output_type": "display_data"
    },
    {
     "name": "stdout",
     "output_type": "stream",
     "text": [
      "Extracting data/MNIST/raw/t10k-labels-idx1-ubyte.gz to data/MNIST/raw\n",
      "\n",
      "Downloading http://fashion-mnist.s3-website.eu-central-1.amazonaws.com/train-images-idx3-ubyte.gz\n",
      "Downloading http://fashion-mnist.s3-website.eu-central-1.amazonaws.com/train-images-idx3-ubyte.gz to data/FashionMNIST/raw/train-images-idx3-ubyte.gz\n"
     ]
    },
    {
     "data": {
      "application/vnd.jupyter.widget-view+json": {
       "model_id": "002f4c9affa640a7806c13bfd1d923ba",
       "version_major": 2,
       "version_minor": 0
      },
      "text/plain": [
       "  0%|          | 0/26421880 [00:00<?, ?it/s]"
      ]
     },
     "metadata": {},
     "output_type": "display_data"
    },
    {
     "name": "stdout",
     "output_type": "stream",
     "text": [
      "Extracting data/FashionMNIST/raw/train-images-idx3-ubyte.gz to data/FashionMNIST/raw\n",
      "\n",
      "Downloading http://fashion-mnist.s3-website.eu-central-1.amazonaws.com/train-labels-idx1-ubyte.gz\n",
      "Downloading http://fashion-mnist.s3-website.eu-central-1.amazonaws.com/train-labels-idx1-ubyte.gz to data/FashionMNIST/raw/train-labels-idx1-ubyte.gz\n"
     ]
    },
    {
     "data": {
      "application/vnd.jupyter.widget-view+json": {
       "model_id": "d48abf1240bc438caa1b3056f67b74e7",
       "version_major": 2,
       "version_minor": 0
      },
      "text/plain": [
       "  0%|          | 0/29515 [00:00<?, ?it/s]"
      ]
     },
     "metadata": {},
     "output_type": "display_data"
    },
    {
     "name": "stdout",
     "output_type": "stream",
     "text": [
      "Extracting data/FashionMNIST/raw/train-labels-idx1-ubyte.gz to data/FashionMNIST/raw\n",
      "\n",
      "Downloading http://fashion-mnist.s3-website.eu-central-1.amazonaws.com/t10k-images-idx3-ubyte.gz\n",
      "Downloading http://fashion-mnist.s3-website.eu-central-1.amazonaws.com/t10k-images-idx3-ubyte.gz to data/FashionMNIST/raw/t10k-images-idx3-ubyte.gz\n"
     ]
    },
    {
     "data": {
      "application/vnd.jupyter.widget-view+json": {
       "model_id": "bccf15889f294a9196425e9daf46edcc",
       "version_major": 2,
       "version_minor": 0
      },
      "text/plain": [
       "  0%|          | 0/4422102 [00:00<?, ?it/s]"
      ]
     },
     "metadata": {},
     "output_type": "display_data"
    },
    {
     "name": "stdout",
     "output_type": "stream",
     "text": [
      "Extracting data/FashionMNIST/raw/t10k-images-idx3-ubyte.gz to data/FashionMNIST/raw\n",
      "\n",
      "Downloading http://fashion-mnist.s3-website.eu-central-1.amazonaws.com/t10k-labels-idx1-ubyte.gz\n",
      "Downloading http://fashion-mnist.s3-website.eu-central-1.amazonaws.com/t10k-labels-idx1-ubyte.gz to data/FashionMNIST/raw/t10k-labels-idx1-ubyte.gz\n"
     ]
    },
    {
     "data": {
      "application/vnd.jupyter.widget-view+json": {
       "model_id": "71b707333195435f9ef1603fd6f1fda3",
       "version_major": 2,
       "version_minor": 0
      },
      "text/plain": [
       "  0%|          | 0/5148 [00:00<?, ?it/s]"
      ]
     },
     "metadata": {},
     "output_type": "display_data"
    },
    {
     "name": "stdout",
     "output_type": "stream",
     "text": [
      "Extracting data/FashionMNIST/raw/t10k-labels-idx1-ubyte.gz to data/FashionMNIST/raw\n",
      "\n"
     ]
    }
   ],
   "source": [
    "train_data = datasets.MNIST(\n",
    "    root = 'data',\n",
    "    train = True,\n",
    "    transform = ToTensor(),\n",
    "    download = True,\n",
    ")\n",
    "test_data = datasets.FashionMNIST(\n",
    "    root = 'data',\n",
    "    train = False,\n",
    "    transform = ToTensor(),\n",
    "    download=True\n",
    ")\n",
    "\n",
    "trainLaoder = DL(train_data, batch_size=64, shuffle=True)\n",
    "testLoader = DL(test_data, batch_size=64, shuffle=True)"
   ]
  },
  {
   "cell_type": "markdown",
   "id": "f2794272",
   "metadata": {},
   "source": [
    "# Visualizing an ActivationModule Activation Function\n",
    "\n",
    "After initializing all needed parts of our data and network, we can now start using our ActivationModule tools to visualize input distributions of the instantiated Activation Functions of the Network. For this, we first state that we want so save all inputs that are perceived by an ReLU Activation Function of the ActivationModule: "
   ]
  },
  {
   "cell_type": "code",
   "execution_count": 15,
   "id": "a20cc8e9",
   "metadata": {},
   "outputs": [],
   "source": [
    "ReLU.save_all_inputs()"
   ]
  },
  {
   "cell_type": "markdown",
   "id": "01c5c8fa",
   "metadata": {},
   "source": [
    "Now we can run our Model on some data, either the training or evaluation data and visualize all instantiated ReLus. At the end we make sure that afterwards the inputs that flow through our ActivationModules are not captured anymore in visualisations:"
   ]
  },
  {
   "cell_type": "code",
   "execution_count": 19,
   "id": "fd331110",
   "metadata": {},
   "outputs": [
    {
     "name": "stdout",
     "output_type": "stream",
     "text": [
      "Accuracy is 0.0897\n"
     ]
    },
    {
     "data": {
      "image/png": "[encoded data removed]",
      "text/plain": [
       "<Figure size 432x144 with 4 Axes>"
      ]
     },
     "metadata": {},
     "output_type": "display_data"
    },
    {
     "name": "stderr",
     "output_type": "stream",
     "text": [
      "\u001b[38;5;226mActivationLogger: <function relu at 0x7fcd446483a0> | activation_logger.py | 54 | Not retrieving input anymore for showing\u001b[0m\n",
      "\u001b[38;5;226mActivationLogger: <function relu at 0x7fcd446483a0> | activation_logger.py | 54 | Not retrieving input anymore for showing\u001b[0m\n",
      "\u001b[38;5;226mActivationLogger: <function relu at 0x7fcd446483a0> | activation_logger.py | 54 | Not retrieving input anymore for showing\u001b[0m\n",
      "\u001b[38;5;226mActivationLogger: <function relu at 0x7fcd446483a0> | activation_logger.py | 54 | Not retrieving input anymore for showing\u001b[0m\n"
     ]
    }
   ],
   "source": [
    "ReLU.save_all_inputs(category_name=\"eval\")\n",
    "eval(model, testLoader)\n",
    "ReLU.show_all()\n",
    "ReLU.save_all_inputs(saving=False)"
   ]
  }
 ],
 "metadata": {
  "kernelspec": {
   "display_name": "Python 3 (ipykernel)",
   "language": "python",
   "name": "python3"
  },
  "language_info": {
   "codemirror_mode": {
    "name": "ipython",
    "version": 3
   },
   "file_extension": ".py",
   "mimetype": "text/x-python",
   "name": "python",
   "nbconvert_exporter": "python",
   "pygments_lexer": "ipython3",
   "version": "3.8.10"
  }
 },
 "nbformat": 4,
 "nbformat_minor": 5
}
