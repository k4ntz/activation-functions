{
 "cells": [
  {
   "cell_type": "markdown",
   "id": "cfe4080a",
   "metadata": {},
   "source": [
    "# Imports \n",
    "\n",
    "To use the ActivationModule for instantiating ActivationFunctions after installing the repository, we need to first import the wanted ActivationFunction. In this case we use ReLU:"
   ]
  },
  {
   "cell_type": "code",
   "execution_count": 1,
   "id": "8c520ad4",
   "metadata": {},
   "outputs": [],
   "source": [
    "from activations.torch import ReLU"
   ]
  },
  {
   "cell_type": "markdown",
   "id": "856c1014",
   "metadata": {},
   "source": [
    "Afterwards, we import all the neccessary modules needed to create a Network and train/evaluate it:"
   ]
  },
  {
   "cell_type": "code",
   "execution_count": 2,
   "id": "10431fda",
   "metadata": {},
   "outputs": [],
   "source": [
    "from torchvision import datasets\n",
    "from torchvision.transforms import ToTensor\n",
    "from torch.utils.data import DataLoader as DL\n",
    "import torch.nn as nn\n",
    "from torch import optim\n",
    "import torch"
   ]
  },
  {
   "cell_type": "markdown",
   "id": "d009d75c",
   "metadata": {},
   "source": [
    "# Network creation with ActivationModule ReLU\n",
    "\n",
    "Now we create an example Network, where we use our imported ActivationModule activation function to activate neurons. Additionally, we create save, load, train and an evaluation method for our example network in order to do everything we want to do with it: "
   ]
  },
  {
   "cell_type": "code",
   "execution_count": 3,
   "id": "a758fec2",
   "metadata": {},
   "outputs": [],
   "source": [
    "class MnistCNN(nn.Module):\n",
    "    def __init__(self, *args, **kwargs):\n",
    "        super().__init__()\n",
    "\n",
    "        self.l1 = nn.Sequential(nn.Conv2d(\n",
    "            in_channels=1,\n",
    "            out_channels=16,\n",
    "            kernel_size=5,\n",
    "            stride=1,\n",
    "            padding=2\n",
    "            ),\n",
    "            nn.MaxPool2d(kernel_size=2)\n",
    "        )\n",
    "\n",
    "        self.l2 = nn.Sequential(nn.Conv2d(\n",
    "            in_channels=16,\n",
    "            out_channels=32,\n",
    "            kernel_size=5,\n",
    "            stride=1,\n",
    "            padding=2\n",
    "            ),\n",
    "            nn.MaxPool2d(2)\n",
    "        )\n",
    "\n",
    "        self.l3 = nn.Linear(32 * 7 * 7, 10)\n",
    "\n",
    "        self.a1 = ReLU()\n",
    "        self.a2 = ReLU()\n",
    "\n",
    "    def forward(self, x):\n",
    "        x = self.l1(x)\n",
    "        x = self.a1(x)\n",
    "        x = self.l2(x)\n",
    "        x = self.a2(x)\n",
    "\n",
    "        x = x.view(x.size(0), -1)\n",
    "        output = self.l3(x)\n",
    "        return output\n",
    "\n",
    "\n",
    "def save_model(model, save_name):\n",
    "    full_pth = f\"./models/{save_name}\"\n",
    "    torch.save(model.state_dict(), full_pth)\n",
    "\n",
    "def load_model(model_name, modeltype=MnistCNN, *args, **kwargs):\n",
    "    model = modeltype(*args, **kwargs)\n",
    "    model.load_state_dict(torch.load(f\"./models/{model_name}\"))\n",
    "    return model\n",
    "\n",
    "def train(epochs, model, trainDataLoader):\n",
    "    optimizer = optim.Adam(model.parameters(), lr=0.01)\n",
    "    lossf = nn.CrossEntropyLoss()\n",
    "    model.train()\n",
    "\n",
    "    for epoch in range(epochs):\n",
    "        epoch_loss = 0\n",
    "        for (batch_image, batch_label) in trainDataLoader:\n",
    "            output = model(batch_image)\n",
    "            loss = lossf(output, batch_label)\n",
    "            optimizer.zero_grad()\n",
    "            loss.backward()\n",
    "            optimizer.step()\n",
    "            epoch_loss += loss.item()\n",
    "        print(f\"Loss at epoch {epoch} := {epoch_loss / len(trainDataLoader)}\")\n",
    "\n",
    "\n",
    "def eval(model, testDataLoader):\n",
    "    model.eval()\n",
    "    with torch.no_grad():\n",
    "        correct = 0\n",
    "        total = 0\n",
    "        for images, labels in testDataLoader:\n",
    "            test_output = model(images)\n",
    "            model_pred = torch.max(test_output, 1)[1]\n",
    "            acc = (model_pred == labels).sum().item()\n",
    "            correct += acc\n",
    "            total += labels.size(0)\n",
    "        print(f\"Accuracy is {correct / total}\")"
   ]
  },
  {
   "cell_type": "markdown",
   "id": "8dc54e03",
   "metadata": {},
   "source": [
    "# Datasets\n",
    "\n",
    "Now we can train this model on some train and evaluation datasets, in our case we will be using MNIST for training and FashionMNIST for evaluation of the model:"
   ]
  },
  {
   "cell_type": "code",
   "execution_count": 4,
   "id": "0b28943b",
   "metadata": {},
   "outputs": [],
   "source": [
    "train_data = datasets.MNIST(\n",
    "    root = 'data',\n",
    "    train = True,\n",
    "    transform = ToTensor(),\n",
    "    download = True,\n",
    ")\n",
    "test_data = datasets.FashionMNIST(\n",
    "    root = 'data',\n",
    "    train = False,\n",
    "    transform = ToTensor(),\n",
    "    download=True\n",
    ")\n",
    "\n",
    "trainLaoder = DL(train_data, batch_size=64, shuffle=True)\n",
    "testLoader = DL(test_data, batch_size=64, shuffle=True)"
   ]
  },
  {
   "cell_type": "markdown",
   "id": "f2794272",
   "metadata": {},
   "source": [
    "# Visualizing an ActivationModule Activation Function\n",
    "\n",
    "After initializing all needed parts of our data and network, we can now start using our ActivationModule tools to visualize input distributions of the instantiated Activation Functions of the Network. For this, we first state that we want so save all inputs that are perceived by an ReLU Activation Function of the ActivationModule: "
   ]
  },
  {
   "cell_type": "code",
   "execution_count": 5,
   "id": "a20cc8e9",
   "metadata": {},
   "outputs": [
    {
     "name": "stdout",
     "output_type": "stream",
     "text": [
      "No instanciated function of ReLU found\n"
     ]
    },
    {
     "name": "stderr",
     "output_type": "stream",
     "text": [
      "--- Logging error ---\n",
      "Traceback (most recent call last):\n",
      "  File \"/usr/lib/python3.8/logging/__init__.py\", line 440, in format\n",
      "    return self._format(record)\n",
      "  File \"/usr/lib/python3.8/logging/__init__.py\", line 436, in _format\n",
      "    return self._fmt % record.__dict__\n",
      "KeyError: 'filename_set'\n",
      "\n",
      "During handling of the above exception, another exception occurred:\n",
      "\n",
      "Traceback (most recent call last):\n",
      "  File \"/usr/lib/python3.8/logging/__init__.py\", line 1085, in emit\n",
      "    msg = self.format(record)\n",
      "  File \"/usr/lib/python3.8/logging/__init__.py\", line 929, in format\n",
      "    return fmt.format(record)\n",
      "  File \"/home/patrick/.local/lib/python3.8/site-packages/activation_functions-0.2.2-py3.8.egg/activations/utils/activation_logger.py\", line 31, in format\n",
      "    return formatter.format(record)\n",
      "  File \"/usr/lib/python3.8/logging/__init__.py\", line 671, in format\n",
      "    s = self.formatMessage(record)\n",
      "  File \"/usr/lib/python3.8/logging/__init__.py\", line 640, in formatMessage\n",
      "    return self._style.format(record)\n",
      "  File \"/usr/lib/python3.8/logging/__init__.py\", line 442, in format\n",
      "    raise ValueError('Formatting field not found in record: %s' % e)\n",
      "ValueError: Formatting field not found in record: 'filename_set'\n",
      "Call stack:\n",
      "  File \"/usr/lib/python3.8/runpy.py\", line 194, in _run_module_as_main\n",
      "    return _run_code(code, main_globals, None,\n",
      "  File \"/usr/lib/python3.8/runpy.py\", line 87, in _run_code\n",
      "    exec(code, run_globals)\n",
      "  File \"/home/patrick/.local/lib/python3.8/site-packages/ipykernel_launcher.py\", line 16, in <module>\n",
      "    app.launch_new_instance()\n",
      "  File \"/home/patrick/.local/lib/python3.8/site-packages/traitlets/config/application.py\", line 846, in launch_instance\n",
      "    app.start()\n",
      "  File \"/home/patrick/.local/lib/python3.8/site-packages/ipykernel/kernelapp.py\", line 677, in start\n",
      "    self.io_loop.start()\n",
      "  File \"/home/patrick/.local/lib/python3.8/site-packages/tornado/platform/asyncio.py\", line 199, in start\n",
      "    self.asyncio_loop.run_forever()\n",
      "  File \"/usr/lib/python3.8/asyncio/base_events.py\", line 570, in run_forever\n",
      "    self._run_once()\n",
      "  File \"/usr/lib/python3.8/asyncio/base_events.py\", line 1859, in _run_once\n",
      "    handle._run()\n",
      "  File \"/usr/lib/python3.8/asyncio/events.py\", line 81, in _run\n",
      "    self._context.run(self._callback, *self._args)\n",
      "  File \"/home/patrick/.local/lib/python3.8/site-packages/ipykernel/kernelbase.py\", line 471, in dispatch_queue\n",
      "    await self.process_one()\n",
      "  File \"/home/patrick/.local/lib/python3.8/site-packages/ipykernel/kernelbase.py\", line 460, in process_one\n",
      "    await dispatch(*args)\n",
      "  File \"/home/patrick/.local/lib/python3.8/site-packages/ipykernel/kernelbase.py\", line 367, in dispatch_shell\n",
      "    await result\n",
      "  File \"/home/patrick/.local/lib/python3.8/site-packages/ipykernel/kernelbase.py\", line 662, in execute_request\n",
      "    reply_content = await reply_content\n",
      "  File \"/home/patrick/.local/lib/python3.8/site-packages/ipykernel/ipkernel.py\", line 360, in do_execute\n",
      "    res = shell.run_cell(code, store_history=store_history, silent=silent)\n",
      "  File \"/home/patrick/.local/lib/python3.8/site-packages/ipykernel/zmqshell.py\", line 532, in run_cell\n",
      "    return super().run_cell(*args, **kwargs)\n",
      "  File \"/home/patrick/.local/lib/python3.8/site-packages/IPython/core/interactiveshell.py\", line 2768, in run_cell\n",
      "    result = self._run_cell(\n",
      "  File \"/home/patrick/.local/lib/python3.8/site-packages/IPython/core/interactiveshell.py\", line 2814, in _run_cell\n",
      "    return runner(coro)\n",
      "  File \"/home/patrick/.local/lib/python3.8/site-packages/IPython/core/async_helpers.py\", line 129, in _pseudo_sync_runner\n",
      "    coro.send(None)\n",
      "  File \"/home/patrick/.local/lib/python3.8/site-packages/IPython/core/interactiveshell.py\", line 3012, in run_cell_async\n",
      "    has_raised = await self.run_ast_nodes(code_ast.body, cell_name,\n",
      "  File \"/home/patrick/.local/lib/python3.8/site-packages/IPython/core/interactiveshell.py\", line 3191, in run_ast_nodes\n",
      "    if await self.run_code(code, result, async_=asy):\n",
      "  File \"/home/patrick/.local/lib/python3.8/site-packages/IPython/core/interactiveshell.py\", line 3251, in run_code\n",
      "    exec(code_obj, self.user_global_ns, self.user_ns)\n",
      "  File \"/tmp/ipykernel_8161/1701509968.py\", line 1, in <module>\n",
      "    ReLU.save_all_inputs()\n",
      "  File \"/home/patrick/.local/lib/python3.8/site-packages/activation_functions-0.2.2-py3.8.egg/activations/torch/functions_new.py\", line 384, in save_all_inputs\n",
      "    instances_list = cls.get_instance_list(input_fcts)\n",
      "  File \"/home/patrick/.local/lib/python3.8/site-packages/activation_functions-0.2.2-py3.8.egg/activations/torch/functions_new.py\", line 898, in get_instance_list\n",
      "    cls.logger.critical(\"Empty instance list, cannot be used for visualization purposes\")\n",
      "  File \"/home/patrick/.local/lib/python3.8/site-packages/activation_functions-0.2.2-py3.8.egg/activations/utils/activation_logger.py\", line 98, in critical\n",
      "    self.log_multiple(msg, func)\n",
      "  File \"/home/patrick/.local/lib/python3.8/site-packages/activation_functions-0.2.2-py3.8.egg/activations/utils/activation_logger.py\", line 77, in log_multiple\n",
      "    func(msg)\n",
      "Message: 'Empty instance list, cannot be used for visualization purposes'\n",
      "Arguments: ()\n"
     ]
    },
    {
     "ename": "ValueError",
     "evalue": "",
     "output_type": "error",
     "traceback": [
      "\u001b[0;31m---------------------------------------------------------------------------\u001b[0m",
      "\u001b[0;31mValueError\u001b[0m                                Traceback (most recent call last)",
      "\u001b[1;32m/home/patrick/Desktop/activation-functions/examples/torch/ActivationModule Hello World.ipynb Cell 10\u001b[0m in \u001b[0;36m<module>\u001b[0;34m\u001b[0m\n\u001b[0;32m----> <a href='vscode-notebook-cell:/home/patrick/Desktop/activation-functions/examples/torch/ActivationModule%20Hello%20World.ipynb#ch0000009?line=0'>1</a>\u001b[0m ReLU\u001b[39m.\u001b[39;49msave_all_inputs()\n",
      "File \u001b[0;32m~/.local/lib/python3.8/site-packages/activation_functions-0.2.2-py3.8.egg/activations/torch/functions_new.py:384\u001b[0m, in \u001b[0;36mActivationModule.save_all_inputs\u001b[0;34m(cls, input_fcts, *args, **kwargs)\u001b[0m\n\u001b[1;32m    352\u001b[0m \u001b[39m@classmethod\u001b[39m\n\u001b[1;32m    353\u001b[0m \u001b[39mdef\u001b[39;00m \u001b[39msave_all_inputs\u001b[39m(\u001b[39mcls\u001b[39m, input_fcts \u001b[39m=\u001b[39m \u001b[39mNone\u001b[39;00m, \u001b[39m*\u001b[39margs, \u001b[39m*\u001b[39m\u001b[39m*\u001b[39mkwargs):\n\u001b[1;32m    354\u001b[0m     \u001b[39m\"\"\"Saves input that the Activation Functions perceive when data flows through them.\u001b[39;00m\n\u001b[1;32m    355\u001b[0m \n\u001b[1;32m    356\u001b[0m \u001b[39m    Arguments:\u001b[39;00m\n\u001b[0;32m   (...)\u001b[0m\n\u001b[1;32m    382\u001b[0m \u001b[39m                Default ``0`` \u001b[39;00m\n\u001b[1;32m    383\u001b[0m \u001b[39m    \"\"\"\u001b[39;00m\n\u001b[0;32m--> 384\u001b[0m     instances_list \u001b[39m=\u001b[39m \u001b[39mcls\u001b[39;49m\u001b[39m.\u001b[39;49mget_instance_list(input_fcts)\n\u001b[1;32m    385\u001b[0m     \u001b[39mcls\u001b[39m\u001b[39m.\u001b[39mlogger\u001b[39m.\u001b[39m_track_history(\u001b[39mTrue\u001b[39;00m)\n\u001b[1;32m    386\u001b[0m     \u001b[39mfor\u001b[39;00m instance \u001b[39min\u001b[39;00m instances_list:\n",
      "File \u001b[0;32m~/.local/lib/python3.8/site-packages/activation_functions-0.2.2-py3.8.egg/activations/torch/functions_new.py:899\u001b[0m, in \u001b[0;36mActivationModule.get_instance_list\u001b[0;34m(cls, input_fcts)\u001b[0m\n\u001b[1;32m    897\u001b[0m \u001b[39mif\u001b[39;00m \u001b[39mlen\u001b[39m(instances_list) \u001b[39m==\u001b[39m \u001b[39m0\u001b[39m:\n\u001b[1;32m    898\u001b[0m     \u001b[39mcls\u001b[39m\u001b[39m.\u001b[39mlogger\u001b[39m.\u001b[39mcritical(\u001b[39m\"\u001b[39m\u001b[39mEmpty instance list, cannot be used for visualization purposes\u001b[39m\u001b[39m\"\u001b[39m)\n\u001b[0;32m--> 899\u001b[0m     \u001b[39mraise\u001b[39;00m \u001b[39mValueError\u001b[39;00m()\n\u001b[1;32m    900\u001b[0m \u001b[39mreturn\u001b[39;00m instances_list\n",
      "\u001b[0;31mValueError\u001b[0m: "
     ]
    }
   ],
   "source": [
    "ReLU.save_all_inputs()"
   ]
  },
  {
   "cell_type": "markdown",
   "id": "01c5c8fa",
   "metadata": {},
   "source": [
    "Now we can run our Model on some data, either the training or evaluation data and visualize all instantiated ReLus. At the end we make sure that afterwards the inputs that flow through our ActivationModules are not captured anymore in visualisations:"
   ]
  },
  {
   "cell_type": "code",
   "execution_count": 19,
   "id": "fd331110",
   "metadata": {},
   "outputs": [
    {
     "name": "stdout",
     "output_type": "stream",
     "text": [
      "Accuracy is 0.0897\n"
     ]
    },
    {
     "data": {
      "image/png": "[encoded data removed]",
      "text/plain": [
       "<Figure size 432x144 with 4 Axes>"
      ]
     },
     "metadata": {},
     "output_type": "display_data"
    },
    {
     "name": "stderr",
     "output_type": "stream",
     "text": [
      "\u001b[38;5;226mActivationLogger: <function relu at 0x7fcd446483a0> | activation_logger.py | 54 | Not retrieving input anymore for showing\u001b[0m\n",
      "\u001b[38;5;226mActivationLogger: <function relu at 0x7fcd446483a0> | activation_logger.py | 54 | Not retrieving input anymore for showing\u001b[0m\n",
      "\u001b[38;5;226mActivationLogger: <function relu at 0x7fcd446483a0> | activation_logger.py | 54 | Not retrieving input anymore for showing\u001b[0m\n",
      "\u001b[38;5;226mActivationLogger: <function relu at 0x7fcd446483a0> | activation_logger.py | 54 | Not retrieving input anymore for showing\u001b[0m\n"
     ]
    }
   ],
   "source": [
    "ReLU.save_all_inputs(category_name=\"eval\")\n",
    "eval(model, testLoader)\n",
    "ReLU.show_all()\n",
    "ReLU.save_all_inputs(saving=False)"
   ]
  }
 ],
 "metadata": {
  "kernelspec": {
   "display_name": "Python 3.8.10 64-bit",
   "language": "python",
   "name": "python3"
  },
  "language_info": {
   "codemirror_mode": {
    "name": "ipython",
    "version": 3
   },
   "file_extension": ".py",
   "mimetype": "text/x-python",
   "name": "python",
   "nbconvert_exporter": "python",
   "pygments_lexer": "ipython3",
   "version": "3.8.10"
  },
  "vscode": {
   "interpreter": {
    "hash": "916dbcbb3f70747c44a77c7bcd40155683ae19c65e1c03b4aa3499c5328201f1"
   }
  }
 },
 "nbformat": 4,
 "nbformat_minor": 5
}
